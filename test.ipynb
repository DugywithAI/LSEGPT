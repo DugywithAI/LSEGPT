{
 "cells": [
  {
   "cell_type": "code",
   "execution_count": null,
   "metadata": {},
   "outputs": [],
   "source": [
    "#0) create env\n",
    "#1) pip install -r requirment.txt\n",
    "#2) define your OPENAI key in  .env\n",
    "#3) change datasources"
   ]
  },
  {
   "cell_type": "markdown",
   "metadata": {},
   "source": [
    "# Libraries"
   ]
  },
  {
   "cell_type": "code",
   "execution_count": 34,
   "metadata": {},
   "outputs": [
    {
     "data": {
      "text/plain": [
       "True"
      ]
     },
     "execution_count": 34,
     "metadata": {},
     "output_type": "execute_result"
    }
   ],
   "source": [
    "import os \n",
    "from dotenv import load_dotenv\n",
    "from llama_index.core import VectorStoreIndex, SimpleDirectoryReader, ServiceContext, PromptTemplate\n",
    "from llama_index.core import VectorStoreIndex, SimpleDirectoryReader\n",
    "from llama_index.core.tools import QueryEngineTool, ToolMetadata\n",
    "from llama_index.core.query_engine import SubQuestionQueryEngine\n",
    "from llama_index.core.callbacks import CallbackManager, LlamaDebugHandler\n",
    "from llama_index.core import Settings\n",
    "from llama_index.core import SimpleDirectoryReader, VectorStoreIndex\n",
    "from llama_index.llms.openai import OpenAI\n",
    "from llama_index.core.tools import QueryEngineTool, ToolMetadata\n",
    "from llama_index.core.query_engine import SubQuestionQueryEngine\n",
    "import nest_asyncio\n",
    "\n",
    "nest_asyncio.apply()\n",
    "load_dotenv()"
   ]
  },
  {
   "cell_type": "markdown",
   "metadata": {},
   "source": [
    "# LLM"
   ]
  },
  {
   "cell_type": "code",
   "execution_count": 23,
   "metadata": {},
   "outputs": [],
   "source": [
    "os.environ[\"OPENAI_API_KEY\"]=os.getenv(\"OPENAI_API_KEY\")"
   ]
  },
  {
   "cell_type": "code",
   "execution_count": 35,
   "metadata": {},
   "outputs": [],
   "source": [
    "# LLM \n",
    "Settings.llm = OpenAI(temperature=0.2, model=\"gpt-3.5-turbo\")"
   ]
  },
  {
   "cell_type": "code",
   "execution_count": 37,
   "metadata": {},
   "outputs": [
    {
     "name": "stderr",
     "output_type": "stream",
     "text": [
      "Generating embeddings:  89%|████████▉ | 8/9 [2:28:22<18:32, 1112.87s/it]\n"
     ]
    }
   ],
   "source": [
    "#data\n",
    "pg = SimpleDirectoryReader(\n",
    "    input_files=[\"data/pg.pdf\"]\n",
    ").load_data()\n",
    "ug = SimpleDirectoryReader(\n",
    "    input_files=[\"data/ug.pdf\"]\n",
    ").load_data()"
   ]
  },
  {
   "cell_type": "code",
   "execution_count": 38,
   "metadata": {},
   "outputs": [
    {
     "name": "stdout",
     "output_type": "stream",
     "text": [
      "**********\n",
      "Trace: index_construction\n",
      "    |_embedding ->  0.791014 seconds\n",
      "**********\n",
      "**********\n",
      "Trace: index_construction\n",
      "    |_embedding ->  1.318526 seconds\n",
      "**********\n"
     ]
    }
   ],
   "source": [
    "#indices\n",
    "pg_index = VectorStoreIndex.from_documents(pg)\n",
    "ug_index = VectorStoreIndex.from_documents(ug)\n"
   ]
  },
  {
   "cell_type": "code",
   "execution_count": 40,
   "metadata": {},
   "outputs": [],
   "source": [
    "#query engine \n",
    "\n",
    "pg_engine = pg_index.as_query_engine(similarity_top_k=3)\n",
    "ug_engine = ug_index.as_query_engine(similarity_top_k=3)\n"
   ]
  },
  {
   "cell_type": "code",
   "execution_count": 41,
   "metadata": {},
   "outputs": [],
   "source": [
    "query_engine_tools = [\n",
    "    QueryEngineTool(\n",
    "        query_engine=pg_engine,\n",
    "        metadata=ToolMetadata(\n",
    "            name=\"pg_manual\",\n",
    "            description=(\n",
    "                \"Provides information about pg manual guide for year 2023/24\"\n",
    "            ),\n",
    "        ),\n",
    "    ),\n",
    "    QueryEngineTool(\n",
    "        query_engine=ug_engine,\n",
    "        metadata=ToolMetadata(\n",
    "            name=\"ug_manual\",\n",
    "            description=(\n",
    "                \"Provides information about ug manual guide for year 2023/24\"\n",
    "            ),\n",
    "        ),\n",
    "    ),\n",
    "]\n",
    "\n",
    "s_engine = SubQuestionQueryEngine.from_defaults(\n",
    "    query_engine_tools=query_engine_tools\n",
    ")"
   ]
  },
  {
   "cell_type": "markdown",
   "metadata": {},
   "source": [
    "# Run Queries"
   ]
  },
  {
   "cell_type": "code",
   "execution_count": 45,
   "metadata": {},
   "outputs": [
    {
     "name": "stdout",
     "output_type": "stream",
     "text": [
      "Generated 2 sub questions.\n",
      "\u001b[1;3;38;2;237;90;200m[pg_manual] Q: What are the key dates for postgraduate students in 2023/24 according to the pg manual?\n",
      "\u001b[0m\u001b[1;3;38;2;90;149;237m[ug_manual] Q: What are the key dates for undergraduate students in 2023/24 according to the ug manual?\n",
      "\u001b[0m\u001b[1;3;38;2;90;149;237m[ug_manual] A: The key dates for undergraduate students in 2023/24 are as follows:\n",
      "- Autumn Term: Monday 25 September – Friday 8 December 2023\n",
      "- Winter break: Monday 11 December 2023 – Friday 12 January 2024\n",
      "- Winter Term: Monday 15 January – Thursday 28 March 2024\n",
      "- Spring break: Friday 29 March – Friday 26 April 2024\n",
      "- Spring Term: Monday 29 April – Friday 14 June 2024\n",
      "\u001b[0m\u001b[1;3;38;2;237;90;200m[pg_manual] A: Postgraduate students will be able to browse courses from 10am on Monday 18 September 2023. Course selection for postgraduates will be open from 10am on Thursday 21 September until 5pm on Friday 6 October 2023. Additionally, course selection will reopen from 10am on Monday 15 January until 5pm on Friday 26 January 2024 to allow changes to be made to Winter Term half unit courses.\n",
      "\u001b[0m**********\n",
      "Trace: query\n",
      "    |_query ->  8.803157 seconds\n",
      "      |_llm ->  1.939125 seconds\n",
      "      |_sub_question ->  2.978304 seconds\n",
      "        |_query ->  2.978135 seconds\n",
      "          |_retrieve ->  0.33464 seconds\n",
      "            |_embedding ->  0.332573 seconds\n",
      "          |_synthesize ->  2.643392 seconds\n",
      "            |_templating ->  2.1e-05 seconds\n",
      "            |_llm ->  2.637381 seconds\n",
      "      |_sub_question ->  2.955815 seconds\n",
      "        |_query ->  2.955435 seconds\n",
      "          |_retrieve ->  0.345204 seconds\n",
      "            |_embedding ->  0.340642 seconds\n",
      "          |_synthesize ->  2.610113 seconds\n",
      "            |_templating ->  1.1e-05 seconds\n",
      "            |_llm ->  2.607245 seconds\n",
      "      |_synthesize ->  3.884602 seconds\n",
      "        |_templating ->  2e-05 seconds\n",
      "        |_llm ->  3.881678 seconds\n",
      "**********\n"
     ]
    }
   ],
   "source": [
    "response = s_engine.query(\n",
    "    \"Compare key dates for undergraduate and postgraduate students\"\n",
    ")"
   ]
  },
  {
   "cell_type": "markdown",
   "metadata": {},
   "source": [
    "# The End"
   ]
  }
 ],
 "metadata": {
  "kernelspec": {
   "display_name": "Python 3",
   "language": "python",
   "name": "python3"
  },
  "language_info": {
   "codemirror_mode": {
    "name": "ipython",
    "version": 3
   },
   "file_extension": ".py",
   "mimetype": "text/x-python",
   "name": "python",
   "nbconvert_exporter": "python",
   "pygments_lexer": "ipython3",
   "version": "3.10.0"
  },
  "orig_nbformat": 4
 },
 "nbformat": 4,
 "nbformat_minor": 2
}
